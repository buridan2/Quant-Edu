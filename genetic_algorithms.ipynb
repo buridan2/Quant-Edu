{
 "cells": [
  {
   "cell_type": "markdown",
   "metadata": {},
   "source": [
    "## Genetic Algorithms ##"
   ]
  },
  {
   "cell_type": "markdown",
   "metadata": {},
   "source": [
    "*The contents of this file are taken from Classic Computer Science Problems in Python (Chapter 5) Copyright 2018 David Kopec. This is a Jupyter Notebook implementation of the chapter*"
   ]
  },
  {
   "cell_type": "markdown",
   "metadata": {},
   "source": [
    "A genetic algorithm includes a:\n",
    "\n",
    "(1) Population of _chromosomes_ containing _genes_ which specify their traits, all competing to solve a problem\n",
    "\n",
    "(2) A _fitness function_ which determines how well a chromosome solves a problem\n",
    "\n",
    "(3) Series of *generations* in which fit chromosomes are more likely to be selected to *reproduce*\n",
    "\n",
    "(4) Probability that in each generation, two chromosomes have their genes merged (*crossover*)\n",
    "\n",
    "(5) Probability that in each generation, a gene in a chromosome may randomly change (_mutation_)"
   ]
  },
  {
   "cell_type": "markdown",
   "metadata": {},
   "source": [
    "The algorithm ends either when some individual chromosome's fitness has surpassed a specific threshhold, or when a specified number of generations has been reached"
   ]
  },
  {
   "cell_type": "markdown",
   "metadata": {},
   "source": [
    "Usually most problems aren't best solved with a Genetic Algorithm but instead have a deterministic solution (remember, the GA relies on three *random* processes: selection, crossover, and mutation). In problems which lack deterministic solutions, they can be a good choice."
   ]
  },
  {
   "cell_type": "markdown",
   "metadata": {},
   "source": [
    "### The Chromosome ###"
   ]
  },
  {
   "cell_type": "markdown",
   "metadata": {},
   "source": [
    "A chromosome should be able to: \n",
    "\n",
    "(1) Determine its own fitness \n",
    "\n",
    "(2) Create an instance with randomly selected genes (to fill the first generation)\n",
    "\n",
    "(3) Crossover with another to create children\n",
    "\n",
    "(4) Mutate to create minor, random alterations\n"
   ]
  },
  {
   "cell_type": "code",
   "execution_count": 5,
   "metadata": {},
   "outputs": [],
   "source": [
    "from __future__ import annotations\n",
    "from typing import TypeVar, Tuple, Type\n",
    "from abc import ABC, abstractmethod\n",
    "\n",
    "T = TypeVar('T', bound='Chromosome') # for returning self\n",
    "\n",
    "# Base class for all chromosomes; all methods must be overridden\n",
    "class Chromosome(ABC):\n",
    "    @abstractmethod\n",
    "    def fitness(self) -> float:\n",
    "        ...\n",
    "\n",
    "    @classmethod\n",
    "    @abstractmethod\n",
    "    def random_instance(cls: Type[T]) -> T:\n",
    "        ...\n",
    "\n",
    "    @abstractmethod\n",
    "    def crossover(self: T, other: T) -> Tuple[T, T]:\n",
    "        ...\n",
    "\n",
    "    @abstractmethod\n",
    "    def mutate(self) -> None:\n",
    "        ..."
   ]
  },
  {
   "cell_type": "markdown",
   "metadata": {},
   "source": [
    "### Creating the Genetic Algorithm Class ##"
   ]
  },
  {
   "cell_type": "markdown",
   "metadata": {},
   "source": [
    "In this very general implementation, a few kew components are left configurable:\n",
    "\n",
    "(1) How many chromosomes are in our population\n",
    "\n",
    "(2) The fitness threshold which stops the algorithm\n",
    "\n",
    "(3) How chromosomes are selected for reproduction\n",
    "\n",
    "(4) How should crossover be implemented? At what probability?\n",
    "\n",
    "(5) Probability for mutation\n",
    "\n",
    "(6) Number of generations"
   ]
  },
  {
   "cell_type": "code",
   "execution_count": 7,
   "metadata": {},
   "outputs": [],
   "source": [
    "from __future__ import annotations\n",
    "from typing import TypeVar, Generic, List, Tuple, Callable\n",
    "from enum import Enum\n",
    "from random import choices, random\n",
    "from heapq import nlargest\n",
    "from statistics import mean\n",
    "\n",
    "C = TypeVar('C', bound=Chromosome) # type of the chromosomes\n",
    "\n",
    "\n",
    "class GeneticAlgorithm(Generic[C]):\n",
    "    # Roulette selection: gives each chromosome a chance of being picked proportionate to fitness\n",
    "    # Tournmant selection: a specific number of random chromosomes are challenged against eachother, and the one with the best fitness is chosen\n",
    "    SelectionType = Enum(\"SelectionType\", \"ROULETTE TOURNAMENT\") \n",
    "\n",
    "    def __init__(self, initial_population: List[C], threshold: float, max_generations: int = 100, mutation_chance: float = 0.01, \n",
    "                 crossover_chance: float = 0.7, selection_type: SelectionType = SelectionType.TOURNAMENT) -> None:\n",
    "        self._population: List[C] = initial_population\n",
    "        self._threshold: float = threshold\n",
    "        self._max_generations: int = max_generations\n",
    "        self._mutation_chance: float = mutation_chance\n",
    "        self._crossover_chance: float = crossover_chance\n",
    "        self._selection_type: GeneticAlgorithm.SelectionType = selection_type\n",
    "        #we use type() to refer to the specific subclass of Chromosome we are finding the fitness of\n",
    "        self._fitness_key: Callable = type(self._population[0]).fitness\n",
    "\n",
    "    # Use the probability distribution wheel to pick 2 parents\n",
    "    # Note: will not work with negative fitness results\n",
    "    def _pick_roulette(self, wheel: List[float]) -> Tuple[C, C]:\n",
    "        return tuple(choices(self._population, weights=wheel, k=2))\n",
    "\n",
    "    # Choose num_participants at random and take the best 2\n",
    "    def _pick_tournament(self, num_participants: int) -> Tuple[C, C]:\n",
    "        participants: List[C] = choices(self._population, k=num_participants)\n",
    "        return tuple(nlargest(2, participants, key=self._fitness_key))\n",
    "\n",
    "    # Replace the population with a new generation of individuals\n",
    "    def _reproduce_and_replace(self) -> None:\n",
    "        '''\n",
    "        1) Two chromosomes, called parents, are selected for reproduction using one of the two selection methods.\n",
    "        2) There is _crossover_chance that the two parents will be combined to produce two new chromosomes, in which case they are added to new_population\n",
    "        3) If new_population has as many chromosomes as _population, it replaces. Otherwise, return to step 1\n",
    "        '''\n",
    "        new_population: List[C] = []\n",
    "        # keep going until we've filled the new generation\n",
    "        while len(new_population) < len(self._population):\n",
    "            # pick the 2 parents\n",
    "            if self._selection_type == GeneticAlgorithm.SelectionType.ROULETTE:\n",
    "                parents: Tuple[C, C] = self._pick_roulette([x.fitness() for x in self._population])\n",
    "            else:\n",
    "                parents = self._pick_tournament(len(self._population) // 2)\n",
    "            # potentially crossover the 2 parents\n",
    "            if random() < self._crossover_chance:\n",
    "                new_population.extend(parents[0].crossover(parents[1]))\n",
    "            else:\n",
    "                new_population.extend(parents)\n",
    "        # if we had an odd number, we'll have 1 extra, so we remove it\n",
    "        if len(new_population) > len(self._population):\n",
    "            new_population.pop()\n",
    "        self._population = new_population # replace reference\n",
    "\n",
    "    # With _mutation_chance probability mutate each individual\n",
    "    def _mutate(self) -> None:\n",
    "        for individual in self._population:\n",
    "            if random() < self._mutation_chance:\n",
    "                individual.mutate()\n",
    "\n",
    "    # Run the genetic algorithm for max_generations iterations\n",
    "    # and return the best individual found\n",
    "    def run(self) -> C:\n",
    "        best: C = max(self._population, key=self._fitness_key)\n",
    "        for generation in range(self._max_generations):\n",
    "            # early exit if we beat threshold\n",
    "            if best.fitness() >= self._threshold:\n",
    "                return best\n",
    "            print(f\"Generation {generation} Best {best.fitness()} Avg {mean(map(self._fitness_key, self._population))}\")\n",
    "            self._reproduce_and_replace()\n",
    "            self._mutate()\n",
    "            highest: C = max(self._population, key=self._fitness_key)\n",
    "            if highest.fitness() > best.fitness():\n",
    "                best = highest # found a new best\n",
    "        return best # best we found in _max_generations\n"
   ]
  },
  {
   "cell_type": "markdown",
   "metadata": {},
   "source": [
    "### A naive test ##"
   ]
  },
  {
   "cell_type": "markdown",
   "metadata": {},
   "source": [
    "Let's try to solve a simple problem with this approach. \n",
    "\n",
    "For what values of $x$ and $y$ does the equation $6x-x^2+4y-y^2$ yield the largest number?"
   ]
  },
  {
   "cell_type": "code",
   "execution_count": 8,
   "metadata": {},
   "outputs": [
    {
     "name": "stdout",
     "output_type": "stream",
     "text": [
      "Generation 0 Best -437 Avg -5383.45\n",
      "Generation 1 Best -77 Avg -997\n",
      "Generation 2 Best -77 Avg -162.5\n",
      "Generation 3 Best -77 Avg -89.1\n",
      "Generation 4 Best -60 Avg -76.25\n",
      "Generation 5 Best -55 Avg -70.15\n",
      "Generation 6 Best -55 Avg -58.25\n",
      "Generation 7 Best -55 Avg -56.85\n",
      "Generation 8 Best -55 Avg -55\n",
      "Generation 9 Best -40 Avg -55.6\n",
      "Generation 10 Best -40 Avg -46.75\n",
      "Generation 11 Best -27 Avg -39.85\n",
      "Generation 12 Best -27 Avg -39.3\n",
      "Generation 13 Best -27 Avg -32.05\n",
      "Generation 14 Best -24 Avg -26.85\n",
      "Generation 15 Best -16 Avg -24.95\n",
      "Generation 16 Best -16 Avg -18.9\n",
      "Generation 17 Best -13 Avg -16.65\n",
      "Generation 18 Best -7 Avg -14.8\n",
      "Generation 19 Best 0 Avg -11.8\n",
      "Generation 20 Best 3 Avg -3.95\n",
      "Generation 21 Best 3 Avg 1.75\n",
      "Generation 22 Best 8 Avg 2.75\n",
      "Generation 23 Best 8 Avg 3.35\n",
      "Generation 24 Best 9 Avg 4\n",
      "Generation 25 Best 12 Avg 8.75\n",
      "Generation 26 Best 12 Avg 9.45\n",
      "Generation 27 Best 12 Avg 10.65\n",
      "Generation 28 Best 12 Avg 11.95\n",
      "X: 3 Y: 2 Fitness: 13\n"
     ]
    }
   ],
   "source": [
    "from __future__ import annotations\n",
    "from typing import Tuple, List\n",
    "from random import randrange, random\n",
    "from copy import deepcopy\n",
    "\n",
    "\n",
    "class SimpleEquation(Chromosome):\n",
    "    def __init__(self, x: int, y: int) -> None:\n",
    "        self.x: int = x\n",
    "        self.y: int = y\n",
    "\n",
    "    def fitness(self) -> float: # 6x - x^2 + 4y - y^2\n",
    "        return 6 * self.x - self.x * self.x + 4 * self.y - self.y * self.y\n",
    "\n",
    "    @classmethod\n",
    "    def random_instance(cls) -> SimpleEquation:\n",
    "        return SimpleEquation(randrange(100), randrange(100))\n",
    "\n",
    "    def crossover(self, other: SimpleEquation) -> Tuple[SimpleEquation, SimpleEquation]:\n",
    "        child1: SimpleEquation = deepcopy(self)\n",
    "        child2: SimpleEquation = deepcopy(other)\n",
    "        child1.y = other.y\n",
    "        child2.y = self.y\n",
    "        return child1, child2\n",
    "\n",
    "    def mutate(self) -> None:\n",
    "        if random() > 0.5: # mutate x\n",
    "            if random() > 0.5:\n",
    "                self.x += 1\n",
    "            else:\n",
    "                self.x -= 1\n",
    "        else: # otherwise mutate y\n",
    "            if random() > 0.5:\n",
    "                self.y += 1\n",
    "            else:\n",
    "                self.y -= 1\n",
    "\n",
    "    def __str__(self) -> str:\n",
    "        return f\"X: {self.x} Y: {self.y} Fitness: {self.fitness()}\"\n",
    "\n",
    "\n",
    "if __name__ == \"__main__\":\n",
    "    initial_population: List[SimpleEquation] = [SimpleEquation.random_instance() for _ in range(20)]\n",
    "    ga: GeneticAlgorithm[SimpleEquation] = GeneticAlgorithm(initial_population=initial_population, threshold=13.0, max_generations = 100, mutation_chance = 0.1, crossover_chance = 0.7)\n",
    "    result: SimpleEquation = ga.run()\n",
    "    print(result)"
   ]
  },
  {
   "cell_type": "markdown",
   "metadata": {},
   "source": [
    "An interesting application\n",
    "https://www.hudsonrivertrading.com/hrtbeat/intern-spotlight-2023-hrt-ai-labs-summer-projects/"
   ]
  }
 ],
 "metadata": {
  "kernelspec": {
   "display_name": "base",
   "language": "python",
   "name": "python3"
  },
  "language_info": {
   "codemirror_mode": {
    "name": "ipython",
    "version": 3
   },
   "file_extension": ".py",
   "mimetype": "text/x-python",
   "name": "python",
   "nbconvert_exporter": "python",
   "pygments_lexer": "ipython3",
   "version": "3.11.4"
  },
  "orig_nbformat": 4
 },
 "nbformat": 4,
 "nbformat_minor": 2
}
